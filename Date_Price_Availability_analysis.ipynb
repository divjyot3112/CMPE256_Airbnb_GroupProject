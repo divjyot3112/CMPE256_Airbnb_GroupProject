{
 "cells": [
  {
   "cell_type": "code",
   "execution_count": 133,
   "metadata": {},
   "outputs": [],
   "source": [
    "%matplotlib inline\n",
    "import matplotlib\n",
    "import matplotlib.pyplot as plt\n",
    "import pandas as pd\n",
    "import numpy as np"
   ]
  },
  {
   "cell_type": "code",
   "execution_count": 134,
   "metadata": {},
   "outputs": [
    {
     "data": {
      "text/html": [
       "<div>\n",
       "<style scoped>\n",
       "    .dataframe tbody tr th:only-of-type {\n",
       "        vertical-align: middle;\n",
       "    }\n",
       "\n",
       "    .dataframe tbody tr th {\n",
       "        vertical-align: top;\n",
       "    }\n",
       "\n",
       "    .dataframe thead th {\n",
       "        text-align: right;\n",
       "    }\n",
       "</style>\n",
       "<table border=\"1\" class=\"dataframe\">\n",
       "  <thead>\n",
       "    <tr style=\"text-align: right;\">\n",
       "      <th></th>\n",
       "      <th>listing_id</th>\n",
       "      <th>date</th>\n",
       "      <th>available</th>\n",
       "      <th>price</th>\n",
       "      <th>adjusted_price</th>\n",
       "      <th>minimum_nights</th>\n",
       "      <th>maximum_nights</th>\n",
       "    </tr>\n",
       "  </thead>\n",
       "  <tbody>\n",
       "    <tr>\n",
       "      <th>0</th>\n",
       "      <td>138619</td>\n",
       "      <td>2019-03-06</td>\n",
       "      <td>f</td>\n",
       "      <td>$160.00</td>\n",
       "      <td>$160.00</td>\n",
       "      <td>30</td>\n",
       "      <td>30</td>\n",
       "    </tr>\n",
       "    <tr>\n",
       "      <th>1</th>\n",
       "      <td>958</td>\n",
       "      <td>2019-03-06</td>\n",
       "      <td>f</td>\n",
       "      <td>$158.00</td>\n",
       "      <td>$158.00</td>\n",
       "      <td>1</td>\n",
       "      <td>30</td>\n",
       "    </tr>\n",
       "    <tr>\n",
       "      <th>2</th>\n",
       "      <td>958</td>\n",
       "      <td>2019-03-07</td>\n",
       "      <td>f</td>\n",
       "      <td>$158.00</td>\n",
       "      <td>$158.00</td>\n",
       "      <td>1</td>\n",
       "      <td>30</td>\n",
       "    </tr>\n",
       "    <tr>\n",
       "      <th>3</th>\n",
       "      <td>958</td>\n",
       "      <td>2019-03-08</td>\n",
       "      <td>f</td>\n",
       "      <td>$156.00</td>\n",
       "      <td>$156.00</td>\n",
       "      <td>1</td>\n",
       "      <td>30</td>\n",
       "    </tr>\n",
       "    <tr>\n",
       "      <th>4</th>\n",
       "      <td>958</td>\n",
       "      <td>2019-03-09</td>\n",
       "      <td>f</td>\n",
       "      <td>$154.00</td>\n",
       "      <td>$154.00</td>\n",
       "      <td>1</td>\n",
       "      <td>30</td>\n",
       "    </tr>\n",
       "  </tbody>\n",
       "</table>\n",
       "</div>"
      ],
      "text/plain": [
       "   listing_id        date available    price adjusted_price  minimum_nights  \\\n",
       "0      138619  2019-03-06         f  $160.00        $160.00              30   \n",
       "1         958  2019-03-06         f  $158.00        $158.00               1   \n",
       "2         958  2019-03-07         f  $158.00        $158.00               1   \n",
       "3         958  2019-03-08         f  $156.00        $156.00               1   \n",
       "4         958  2019-03-09         f  $154.00        $154.00               1   \n",
       "\n",
       "   maximum_nights  \n",
       "0              30  \n",
       "1              30  \n",
       "2              30  \n",
       "3              30  \n",
       "4              30  "
      ]
     },
     "execution_count": 134,
     "metadata": {},
     "output_type": "execute_result"
    }
   ],
   "source": [
    "df_cal = pd.read_csv('calendar.csv')\n",
    "df_cal.head(5)"
   ]
  },
  {
   "cell_type": "code",
   "execution_count": 135,
   "metadata": {},
   "outputs": [
    {
     "data": {
      "text/html": [
       "<div>\n",
       "<style scoped>\n",
       "    .dataframe tbody tr th:only-of-type {\n",
       "        vertical-align: middle;\n",
       "    }\n",
       "\n",
       "    .dataframe tbody tr th {\n",
       "        vertical-align: top;\n",
       "    }\n",
       "\n",
       "    .dataframe thead th {\n",
       "        text-align: right;\n",
       "    }\n",
       "</style>\n",
       "<table border=\"1\" class=\"dataframe\">\n",
       "  <thead>\n",
       "    <tr style=\"text-align: right;\">\n",
       "      <th></th>\n",
       "      <th>listing_id</th>\n",
       "      <th>date</th>\n",
       "      <th>available</th>\n",
       "      <th>price</th>\n",
       "      <th>minimum_nights</th>\n",
       "      <th>maximum_nights</th>\n",
       "    </tr>\n",
       "    <tr>\n",
       "      <th>date</th>\n",
       "      <th></th>\n",
       "      <th></th>\n",
       "      <th></th>\n",
       "      <th></th>\n",
       "      <th></th>\n",
       "      <th></th>\n",
       "    </tr>\n",
       "  </thead>\n",
       "  <tbody>\n",
       "    <tr>\n",
       "      <th>2019-03-06</th>\n",
       "      <td>138619</td>\n",
       "      <td>2019-03-06</td>\n",
       "      <td>0</td>\n",
       "      <td>160.0</td>\n",
       "      <td>30</td>\n",
       "      <td>30</td>\n",
       "    </tr>\n",
       "    <tr>\n",
       "      <th>2019-03-06</th>\n",
       "      <td>958</td>\n",
       "      <td>2019-03-06</td>\n",
       "      <td>0</td>\n",
       "      <td>158.0</td>\n",
       "      <td>1</td>\n",
       "      <td>30</td>\n",
       "    </tr>\n",
       "    <tr>\n",
       "      <th>2019-03-07</th>\n",
       "      <td>958</td>\n",
       "      <td>2019-03-07</td>\n",
       "      <td>0</td>\n",
       "      <td>158.0</td>\n",
       "      <td>1</td>\n",
       "      <td>30</td>\n",
       "    </tr>\n",
       "    <tr>\n",
       "      <th>2019-03-08</th>\n",
       "      <td>958</td>\n",
       "      <td>2019-03-08</td>\n",
       "      <td>0</td>\n",
       "      <td>156.0</td>\n",
       "      <td>1</td>\n",
       "      <td>30</td>\n",
       "    </tr>\n",
       "    <tr>\n",
       "      <th>2019-03-09</th>\n",
       "      <td>958</td>\n",
       "      <td>2019-03-09</td>\n",
       "      <td>0</td>\n",
       "      <td>154.0</td>\n",
       "      <td>1</td>\n",
       "      <td>30</td>\n",
       "    </tr>\n",
       "  </tbody>\n",
       "</table>\n",
       "</div>"
      ],
      "text/plain": [
       "            listing_id       date  available  price  minimum_nights  \\\n",
       "date                                                                  \n",
       "2019-03-06      138619 2019-03-06          0  160.0              30   \n",
       "2019-03-06         958 2019-03-06          0  158.0               1   \n",
       "2019-03-07         958 2019-03-07          0  158.0               1   \n",
       "2019-03-08         958 2019-03-08          0  156.0               1   \n",
       "2019-03-09         958 2019-03-09          0  154.0               1   \n",
       "\n",
       "            maximum_nights  \n",
       "date                        \n",
       "2019-03-06              30  \n",
       "2019-03-06              30  \n",
       "2019-03-07              30  \n",
       "2019-03-08              30  \n",
       "2019-03-09              30  "
      ]
     },
     "execution_count": 135,
     "metadata": {},
     "output_type": "execute_result"
    }
   ],
   "source": [
    "df_cal['available'] = df_cal['available'].map({'t': 1, 'f': 0})\n",
    "df_cal = df_cal.astype({'date': 'datetime64'})\n",
    "df_cal['price'] = df_cal['price'].replace('[\\$,)]','', regex=True).replace('[(]','-', regex=True).astype(float)\n",
    "df_cal.drop(['adjusted_price'], axis=1, inplace=True)\n",
    "df_cal.index = df_cal['date']\n",
    "df_cal.head(5)"
   ]
  },
  {
   "cell_type": "code",
   "execution_count": 136,
   "metadata": {},
   "outputs": [
    {
     "name": "stdout",
     "output_type": "stream",
     "text": [
      "            available       price\n",
      "date                             \n",
      "2019-03-31   0.272937  214.895141\n",
      "2019-04-30   0.434867  216.632340\n",
      "2019-05-31   0.505839  221.264935\n",
      "2019-06-30   0.429642  224.945998\n",
      "2019-07-31   0.434994  231.307897\n",
      "2019-08-31   0.468010  234.019397\n",
      "2019-09-30   0.391796  234.792789\n",
      "2019-10-31   0.402186  231.624668\n",
      "2019-11-30   0.410940  233.115182\n",
      "2019-12-31   0.378851  226.109978\n",
      "2020-01-31   0.389379  230.721194\n",
      "2020-02-29   0.396385  228.805906\n",
      "2020-03-31   0.398266  226.708782\n"
     ]
    }
   ],
   "source": [
    "pivot_cal = df_cal.pivot_table(index=pd.Grouper(freq='M'), values=['available', 'price'])\n",
    "print(pivot_cal)"
   ]
  },
  {
   "cell_type": "code",
   "execution_count": 137,
   "metadata": {
    "scrolled": true
   },
   "outputs": [
    {
     "name": "stdout",
     "output_type": "stream",
     "text": [
      "         date  available       price\n",
      "0  2019-03-31   0.272937  214.895141\n",
      "1  2019-04-30   0.434867  216.632340\n",
      "2  2019-05-31   0.505839  221.264935\n",
      "3  2019-06-30   0.429642  224.945998\n",
      "4  2019-07-31   0.434994  231.307897\n",
      "5  2019-08-31   0.468010  234.019397\n",
      "6  2019-09-30   0.391796  234.792789\n",
      "7  2019-10-31   0.402186  231.624668\n",
      "8  2019-11-30   0.410940  233.115182\n",
      "9  2019-12-31   0.378851  226.109978\n",
      "10 2020-01-31   0.389379  230.721194\n",
      "11 2020-02-29   0.396385  228.805906\n",
      "12 2020-03-31   0.398266  226.708782\n"
     ]
    }
   ],
   "source": [
    "pivot_cal.reset_index(inplace=True)\n",
    "print(pivot_cal)"
   ]
  },
  {
   "cell_type": "code",
   "execution_count": 138,
   "metadata": {},
   "outputs": [
    {
     "data": {
      "text/plain": [
       "Text(0.5, 0, 'Year-Month-Day')"
      ]
     },
     "execution_count": 138,
     "metadata": {},
     "output_type": "execute_result"
    },
    {
     "data": {
      "image/png": "[encoded data removed]",
      "text/plain": [
       "<Figure size 1080x576 with 1 Axes>"
      ]
     },
     "metadata": {},
     "output_type": "display_data"
    }
   ],
   "source": [
    "pivot_cal['date']=pivot_cal['date'].astype(str)\n",
    "\n",
    "matplotlib.style.use('ggplot')\n",
    "pivot_cal.plot(kind='bar', \n",
    "           x='date',\n",
    "           y='price',\n",
    "           color = '#AB1717', \n",
    "           figsize =(15,8), \n",
    "           title = 'SF Airbnb Prices vs. Time of Year', \n",
    "           legend = False)\n",
    "plt.ylabel('Average Price')\n",
    "plt.xlabel('Year-Month-Day')"
   ]
  },
  {
   "cell_type": "code",
   "execution_count": 139,
   "metadata": {},
   "outputs": [
    {
     "data": {
      "text/plain": [
       "Text(0.5, 0, 'Year-Month-Day')"
      ]
     },
     "execution_count": 139,
     "metadata": {},
     "output_type": "execute_result"
    },
    {
     "data": {
      "image/png": "[encoded data removed]",
      "text/plain": [
       "<Figure size 1080x576 with 1 Axes>"
      ]
     },
     "metadata": {},
     "output_type": "display_data"
    }
   ],
   "source": [
    "pivot_cal['date']=pivot_cal['date'].astype(str)\n",
    "\n",
    "matplotlib.style.use('ggplot')\n",
    "pivot_cal.plot(kind='bar', \n",
    "           x='date',\n",
    "           y='available',\n",
    "           color = '#ABB00E', \n",
    "           figsize =(15,8), \n",
    "           title = 'SF Airbnb Availability vs. Time of Year', \n",
    "           legend = False)\n",
    "plt.ylabel('Availability')\n",
    "plt.xlabel('Year-Month-Day')"
   ]
  },
  {
   "cell_type": "code",
   "execution_count": null,
   "metadata": {},
   "outputs": [],
   "source": []
  }
 ],
 "metadata": {
  "kernelspec": {
   "display_name": "Python 3",
   "language": "python",
   "name": "python3"
  },
  "language_info": {
   "codemirror_mode": {
    "name": "ipython",
    "version": 3
   },
   "file_extension": ".py",
   "mimetype": "text/x-python",
   "name": "python",
   "nbconvert_exporter": "python",
   "pygments_lexer": "ipython3",
   "version": "3.7.1"
  }
 },
 "nbformat": 4,
 "nbformat_minor": 2
}
